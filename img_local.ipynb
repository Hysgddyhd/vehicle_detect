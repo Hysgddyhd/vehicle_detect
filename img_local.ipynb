{
 "cells": [
  {
   "cell_type": "code",
   "execution_count": 6,
   "metadata": {},
   "outputs": [],
   "source": [
    "from inference_sdk import InferenceHTTPClient\n",
    "from PIL import Image\n",
    "import base64\n",
    "import io\n",
    "import os\n",
    "import cv2\n",
    "import re\n"
   ]
  },
  {
   "cell_type": "code",
   "execution_count": 7,
   "metadata": {},
   "outputs": [],
   "source": [
    "client = InferenceHTTPClient(\n",
    "    api_url=\"http://localhost:9001\", # use local inference server\n",
    "    api_key=\"HHOQQa2OcXtsGddANg0W\"\n",
    ")"
   ]
  },
  {
   "cell_type": "code",
   "execution_count": 8,
   "metadata": {},
   "outputs": [],
   "source": [
    "\n",
    "def recognize_image(path):  \n",
    "    result = client.run_workflow(\n",
    "        workspace_name=\"robot-application\",\n",
    "        workflow_id=\"custom-workflow-q1t\",\n",
    "        images={\n",
    "            \"image\": path\n",
    "    }\n",
    "    )\n",
    "    return result[0][\"label_visualization\"]"
   ]
  },
  {
   "cell_type": "code",
   "execution_count": 9,
   "metadata": {},
   "outputs": [],
   "source": [
    "#extract visualization data form result \n",
    "#data=recognize_image(source_dir+img)"
   ]
  },
  {
   "cell_type": "code",
   "execution_count": 10,
   "metadata": {},
   "outputs": [
    {
     "ename": "NameError",
     "evalue": "name 'img' is not defined",
     "output_type": "error",
     "traceback": [
      "\u001b[0;31m---------------------------------------------------------------------------\u001b[0m",
      "\u001b[0;31mNameError\u001b[0m                                 Traceback (most recent call last)",
      "Cell \u001b[0;32mIn[10], line 1\u001b[0m\n\u001b[0;32m----> 1\u001b[0m head,tail\u001b[38;5;241m=\u001b[39mos\u001b[38;5;241m.\u001b[39mpath\u001b[38;5;241m.\u001b[39msplitext(\u001b[43mimg\u001b[49m)\n\u001b[1;32m      2\u001b[0m target \u001b[38;5;241m=\u001b[39m source_dir\u001b[38;5;241m+\u001b[39m\u001b[38;5;124m\"\u001b[39m\u001b[38;5;124m.\u001b[39m\u001b[38;5;124m\"\u001b[39m\u001b[38;5;241m+\u001b[39mhead \u001b[38;5;241m+\u001b[39m \u001b[38;5;124m\"\u001b[39m\u001b[38;5;124m_prediction\u001b[39m\u001b[38;5;124m\"\u001b[39m \u001b[38;5;241m+\u001b[39m tail\n\u001b[1;32m      4\u001b[0m imgdata \u001b[38;5;241m=\u001b[39m base64\u001b[38;5;241m.\u001b[39mb64decode(data)\n",
      "\u001b[0;31mNameError\u001b[0m: name 'img' is not defined"
     ]
    }
   ],
   "source": [
    "head,tail=os.path.splitext(img)\n",
    "target = source_dir+\".\"+head + \"_prediction\" + tail\n",
    "\n",
    "imgdata = base64.b64decode(data)\n",
    " # I assume you have a way of picking unique filenames\n",
    "with open(target, 'wb') as f:\n",
    "    f.write(imgdata)"
   ]
  },
  {
   "cell_type": "code",
   "execution_count": null,
   "metadata": {},
   "outputs": [
    {
     "name": "stderr",
     "output_type": "stream",
     "text": [
      "[ WARN:0@2157.468] global loadsave.cpp:241 findDecoder imread_('vid/frames/.Bicycle_3_prediction.jpg'): can't open/read file: check file path/integrity\n"
     ]
    },
    {
     "ename": "error",
     "evalue": "OpenCV(4.10.0) /usr/src/debug/opencv/opencv/modules/highgui/src/window.cpp:973: error: (-215:Assertion failed) size.width>0 && size.height>0 in function 'imshow'\n",
     "output_type": "error",
     "traceback": [
      "\u001b[0;31m---------------------------------------------------------------------------\u001b[0m",
      "\u001b[0;31merror\u001b[0m                                     Traceback (most recent call last)",
      "Cell \u001b[0;32mIn[22], line 2\u001b[0m\n\u001b[1;32m      1\u001b[0m image \u001b[38;5;241m=\u001b[39m cv2\u001b[38;5;241m.\u001b[39mimread(target)\n\u001b[0;32m----> 2\u001b[0m \u001b[43mcv2\u001b[49m\u001b[38;5;241;43m.\u001b[39;49m\u001b[43mimshow\u001b[49m\u001b[43m(\u001b[49m\u001b[43mhead\u001b[49m\u001b[43m,\u001b[49m\u001b[43mimage\u001b[49m\u001b[43m)\u001b[49m\n\u001b[1;32m      3\u001b[0m cv2\u001b[38;5;241m.\u001b[39mwaitKey(\u001b[38;5;241m0\u001b[39m) \u001b[38;5;66;03m#close windows only after any key press\u001b[39;00m\n\u001b[1;32m      4\u001b[0m cv2\u001b[38;5;241m.\u001b[39mdestroyAllWindows()\n",
      "\u001b[0;31merror\u001b[0m: OpenCV(4.10.0) /usr/src/debug/opencv/opencv/modules/highgui/src/window.cpp:973: error: (-215:Assertion failed) size.width>0 && size.height>0 in function 'imshow'\n"
     ]
    }
   ],
   "source": [
    "image = cv2.imread(target)\n",
    "cv2.imshow(head,image)\n",
    "cv2.waitKey(0) #close windows only after any key press\n",
    "cv2.destroyAllWindows()"
   ]
  },
  {
   "cell_type": "code",
   "execution_count": null,
   "metadata": {},
   "outputs": [],
   "source": [
    "source_dir = \"vid/frames/\"\n",
    "list=os.listdir(source_dir)\n",
    "for i in list:\n",
    "    if i.startswith(\".\"): #remove labeled image\n",
    "        list.remove(i)\n"
   ]
  },
  {
   "cell_type": "code",
   "execution_count": null,
   "metadata": {},
   "outputs": [],
   "source": [
    "def return_name(file_name):\n",
    "    head,tail=os.path.splitext(file_name)\n",
    "    iterator=re.findall(r'\\d+', head)\n",
    "    return int(iterator[0])\n"
   ]
  },
  {
   "cell_type": "code",
   "execution_count": null,
   "metadata": {},
   "outputs": [
    {
     "data": {
      "text/plain": [
       "4509"
      ]
     },
     "execution_count": 32,
     "metadata": {},
     "output_type": "execute_result"
    }
   ],
   "source": [
    "list.sort(key=return_name)\n",
    "len(list)"
   ]
  },
  {
   "cell_type": "code",
   "execution_count": null,
   "metadata": {},
   "outputs": [],
   "source": [
    "prediction_folder=\"vid/predictions/\"\n",
    "def images_class(list):\n",
    "    for name in list:\n",
    "        path = source_dir+name\n",
    "        encode=recognize_image(path)\n",
    "        head,tail=os.path.splitext(name)\n",
    "        target = prediction_folder+\".\"+head + \"_prediction\" + tail\n",
    "        imgdata = base64.b64decode(encode)\n",
    " # I assume you have a way of picking unique filenames\n",
    "        with open(target, 'wb') as f:\n",
    "            f.write(imgdata)\n",
    "        image = cv2.imread(target)\n",
    "       # cv2.imshow(head,image)\n",
    "       # cv2.waitKey(0) #close windows only after any key press\n",
    "        #cv2.destroyAllWindows()\n",
    "        \n",
    "        "
   ]
  },
  {
   "cell_type": "code",
   "execution_count": null,
   "metadata": {},
   "outputs": [],
   "source": [
    "images_class(list)"
   ]
  }
 ],
 "metadata": {
  "kernelspec": {
   "display_name": "Python 3",
   "language": "python",
   "name": "python3"
  },
  "language_info": {
   "codemirror_mode": {
    "name": "ipython",
    "version": 3
   },
   "file_extension": ".py",
   "mimetype": "text/x-python",
   "name": "python",
   "nbconvert_exporter": "python",
   "pygments_lexer": "ipython3",
   "version": "3.12.7"
  }
 },
 "nbformat": 4,
 "nbformat_minor": 2
}
