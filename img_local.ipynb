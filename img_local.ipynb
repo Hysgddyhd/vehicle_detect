{
 "cells": [
  {
   "cell_type": "code",
   "execution_count": 1,
   "metadata": {},
   "outputs": [],
   "source": [
    "from inference_sdk import InferenceHTTPClient\n",
    "from PIL import Image\n",
    "import base64\n",
    "import io\n",
    "import os\n",
    "import cv2\n",
    "import re\n"
   ]
  },
  {
   "cell_type": "code",
   "execution_count": 2,
   "metadata": {},
   "outputs": [],
   "source": [
    "client = InferenceHTTPClient(\n",
    "    api_url=\"http://localhost:9001\", # use local inference server\n",
    "    api_key=\"HHOQQa2OcXtsGddANg0W\"\n",
    ")"
   ]
  },
  {
   "cell_type": "code",
   "execution_count": 3,
   "metadata": {},
   "outputs": [],
   "source": [
    "\n",
    "def recognize_image(path):  \n",
    "    result = client.run_workflow(\n",
    "        workspace_name=\"robot-application\",\n",
    "        workflow_id=\"custom-workflow-q1t\",\n",
    "        images={\n",
    "            \"image\": path\n",
    "    }\n",
    "    )\n",
    "    return result[0][\"label_visualization\"]"
   ]
  },
  {
   "cell_type": "code",
   "execution_count": 4,
   "metadata": {},
   "outputs": [],
   "source": [
    "#extract visualization data form result \n",
    "div=\"material/\"\n",
    "image=\"mpv-shot0003.jpg\"\n",
    "data=recognize_image(div+image)"
   ]
  },
  {
   "cell_type": "code",
   "execution_count": 5,
   "metadata": {},
   "outputs": [],
   "source": [
    "head,tail=os.path.splitext(image)\n",
    "source_dir=\"prediction/\"\n",
    "target = source_dir+\".\"+head + \"_prediction\" + tail\n",
    "\n",
    "imgdata = base64.b64decode(data)\n",
    " # I assume you have a way of picking unique filenames\n",
    "with open(target, 'wb') as f:\n",
    "    f.write(imgdata)"
   ]
  },
  {
   "cell_type": "code",
   "execution_count": 6,
   "metadata": {},
   "outputs": [],
   "source": [
    "image = cv2.imread(target)\n",
    "cv2.imshow(head,image)\n",
    "cv2.waitKey(0) #close windows only after any key press\n",
    "cv2.destroyAllWindows()"
   ]
  },
  {
   "cell_type": "code",
   "execution_count": null,
   "metadata": {},
   "outputs": [],
   "source": [
    "source_dir = \"vid/frames/\"\n",
    "\n",
    "for i in list:\n",
    "    if i.startswith(\".\"): #remove labeled image\n",
    "        list.remove(i)\n"
   ]
  },
  {
   "cell_type": "code",
   "execution_count": null,
   "metadata": {},
   "outputs": [],
   "source": [
    "def return_name(file_name):\n",
    "    head,tail=os.path.splitext(file_name)\n",
    "    iterator=re.findall(r'\\d+', head)\n",
    "    return int(iterator[0])\n"
   ]
  },
  {
   "cell_type": "code",
   "execution_count": null,
   "metadata": {},
   "outputs": [
    {
     "data": {
      "text/plain": [
       "4509"
      ]
     },
     "execution_count": 32,
     "metadata": {},
     "output_type": "execute_result"
    }
   ],
   "source": [
    "list.sort(key=return_name)\n",
    "len(list)"
   ]
  },
  {
   "cell_type": "code",
   "execution_count": null,
   "metadata": {},
   "outputs": [],
   "source": [
    "prediction_folder=\"vid/predictions/\"\n",
    "def images_class(list):\n",
    "    for name in list:\n",
    "        path = source_dir+name\n",
    "        encode=recognize_image(path)\n",
    "        head,tail=os.path.splitext(name)\n",
    "        target = prediction_folder+\".\"+head + \"_prediction\" + tail\n",
    "        imgdata = base64.b64decode(encode)\n",
    " # I assume you have a way of picking unique filenames\n",
    "        with open(target, 'wb') as f:\n",
    "            f.write(imgdata)\n",
    "        image = cv2.imread(target)\n",
    "       # cv2.imshow(head,image)\n",
    "       # cv2.waitKey(0) #close windows only after any key press\n",
    "        #cv2.destroyAllWindows()\n",
    "        \n",
    "        "
   ]
  },
  {
   "cell_type": "code",
   "execution_count": null,
   "metadata": {},
   "outputs": [],
   "source": [
    "images_class(list)"
   ]
  }
 ],
 "metadata": {
  "kernelspec": {
   "display_name": "Python 3",
   "language": "python",
   "name": "python3"
  },
  "language_info": {
   "codemirror_mode": {
    "name": "ipython",
    "version": 3
   },
   "file_extension": ".py",
   "mimetype": "text/x-python",
   "name": "python",
   "nbconvert_exporter": "python",
   "pygments_lexer": "ipython3",
   "version": "3.11.9"
  }
 },
 "nbformat": 4,
 "nbformat_minor": 2
}
