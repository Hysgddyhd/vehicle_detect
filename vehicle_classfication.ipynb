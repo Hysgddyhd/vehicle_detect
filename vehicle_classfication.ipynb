{
 "cells": [
  {
   "cell_type": "code",
   "execution_count": null,
   "metadata": {},
   "outputs": [],
   "source": [
    "# Import the InferencePipeline object\n",
    "from inference import InferencePipeline\n",
    "from inference.core.interfaces.stream.sinks import render_boxes\n",
    "import cv2\n",
    "def my_sink(result, video_frame):\n",
    "    if result.get(\"output_image\"): # Display an image from the workflow response\n",
    "        cv2.imshow(\"Workflow Image\", result[\"output_image\"].numpy_image)\n",
    "        cv2.waitKey(1)\n",
    "    print(result) # do something with the predictions of each frame"
   ]
  },
  {
   "cell_type": "code",
   "execution_count": null,
   "metadata": {},
   "outputs": [],
   "source": [
    "# initialize a pipeline object\n",
    "pipeline = InferencePipeline.init(\n",
    "    api_key=\"HHOQQa2OcXtsGddANg0W\",\n",
    "    model_id=\"vehicle-detection-m7rln/5\",\n",
    "    video_reference=\"vid/video_2.mp4\", # Path to video, device id (int, usually 0 for built in webcams), or RTSP stream url\n",
    "    max_fps=0.1,\n",
    "    on_prediction=render_boxes,\n",
    "    confidence=0.7\n",
    ")"
   ]
  },
  {
   "cell_type": "code",
   "execution_count": null,
   "metadata": {},
   "outputs": [],
   "source": [
    "pipeline.start() #start the pipeline\n",
    "pipeline.join() #wait for the pipeline thread to finish"
   ]
  }
 ],
 "metadata": {
  "kernelspec": {
   "display_name": "Python 3",
   "language": "python",
   "name": "python3"
  },
  "language_info": {
   "codemirror_mode": {
    "name": "ipython",
    "version": 3
   },
   "file_extension": ".py",
   "mimetype": "text/x-python",
   "name": "python",
   "nbconvert_exporter": "python",
   "pygments_lexer": "ipython3",
   "version": "3.12.7"
  }
 },
 "nbformat": 4,
 "nbformat_minor": 2
}
