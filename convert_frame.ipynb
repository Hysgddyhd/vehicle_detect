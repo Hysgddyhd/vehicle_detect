{
 "cells": [
  {
   "cell_type": "code",
   "execution_count": 3,
   "metadata": {},
   "outputs": [
    {
     "name": "stdout",
     "output_type": "stream",
     "text": [
      "Saved frames to vid/frames\n"
     ]
    }
   ],
   "source": [
    "import supervision as sv\n",
    "from PIL import Image\n",
    "\n",
    "video_path = \"vid/highway-traffic.mp4\"\n",
    "FRAMES_DIR = \"vid/frames\"\n",
    "\n",
    "frames_generator = sv.get_video_frames_generator(video_path)\n",
    "\n",
    "for i, frame in enumerate(frames_generator):\n",
    "  img = Image.fromarray(frame)\n",
    "  img.save(f\"{FRAMES_DIR}/video_frame{i}.jpg\")\n",
    "\n",
    "print(f\"Saved frames to {FRAMES_DIR}\")"
   ]
  }
 ],
 "metadata": {
  "kernelspec": {
   "display_name": "Python 3",
   "language": "python",
   "name": "python3"
  },
  "language_info": {
   "codemirror_mode": {
    "name": "ipython",
    "version": 3
   },
   "file_extension": ".py",
   "mimetype": "text/x-python",
   "name": "python",
   "nbconvert_exporter": "python",
   "pygments_lexer": "ipython3",
   "version": "3.12.7"
  }
 },
 "nbformat": 4,
 "nbformat_minor": 2
}
