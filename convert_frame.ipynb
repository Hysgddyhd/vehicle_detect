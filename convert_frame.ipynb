{
 "cells": [
  {
   "cell_type": "code",
<<<<<<< HEAD
   "execution_count": 7,
   "metadata": {},
   "outputs": [],
   "source": [
    "import supervision as sv\n",
    "from PIL import Image\n",
    "import cv2\n",
    "import os\n",
    "\n",
    "video_path = \"material/traffic_1.mp4\"\n",
    "FRAMES_DIR = \"frames\"\n"
   ]
  },
  {
   "cell_type": "code",
   "execution_count": 5,
   "metadata": {},
   "outputs": [
    {
     "name": "stdout",
     "output_type": "stream",
     "text": [
      "30.0\n"
     ]
    }
   ],
   "source": [
    "cam = cv2.VideoCapture(video_path)\n",
    "fps = cam.get(cv2.CAP_PROP_FPS)\n",
    "print(fps)"
   ]
  },
  {
   "cell_type": "code",
   "execution_count": 8,
   "metadata": {},
   "outputs": [],
   "source": [
    "#delete all perious frames inside folder\n",
    "for filename in os.listdir(FRAMES_DIR):\n",
    "    file_path = os.path.join(FRAMES_DIR, filename)\n",
    "    try:\n",
    "        if os.path.isfile(file_path) or os.path.islink(file_path):\n",
    "            os.unlink(file_path)\n",
    "        elif os.path.isdir(file_path):\n",
    "            shutil.rmtree(file_path)\n",
    "    except Exception as e:\n",
    "        print('Failed to delete %s. Reason: %s' % (file_path, e))"
   ]
  },
  {
   "cell_type": "code",
   "execution_count": 14,
   "metadata": {},
   "outputs": [],
   "source": [
    "\n",
    "frames_generator = sv.get_video_frames_generator(video_path)"
   ]
  },
  {
   "cell_type": "code",
   "execution_count": null,
=======
   "execution_count": 1,
>>>>>>> refs/remotes/origin/main
   "metadata": {},
   "outputs": [
    {
     "name": "stdout",
     "output_type": "stream",
     "text": [
      "Saved frames to frames\n"
     ]
    }
   ],
   "source": [
<<<<<<< HEAD
    "count=0\n",
    "#limit fps to 10 to shorten prediction time\n",
    "pace=int(fps/10)\n",
    "for i, frame in enumerate(frames_generator):\n",
    "  if i%pace == 0:\n",
    "    img = Image.fromarray(frame)\n",
    "    img.save(f\"{FRAMES_DIR}/video_frame{i}.jpg\")\n",
=======
    "import supervision as sv\n",
    "from PIL import Image\n",
    "\n",
    "video_path = \"material/traffic_2.mp4\"\n",
    "FRAMES_DIR = \"frames\"\n",
    "\n",
    "frames_generator = sv.get_video_frames_generator(video_path)\n",
    "\n",
    "for i, frame in enumerate(frames_generator):\n",
    "  img = Image.fromarray(frame)\n",
    "  img.save(f\"{FRAMES_DIR}/video_frame{i}.jpg\")\n",
>>>>>>> refs/remotes/origin/main
    "\n",
    "print(f\"Saved frames to {FRAMES_DIR}\")"
   ]
  }
 ],
 "metadata": {
  "kernelspec": {
   "display_name": "Python 3",
   "language": "python",
   "name": "python3"
  },
  "language_info": {
   "codemirror_mode": {
    "name": "ipython",
    "version": 3
   },
   "file_extension": ".py",
   "mimetype": "text/x-python",
   "name": "python",
   "nbconvert_exporter": "python",
   "pygments_lexer": "ipython3",
   "version": "3.11.9"
  }
 },
 "nbformat": 4,
 "nbformat_minor": 2
}
